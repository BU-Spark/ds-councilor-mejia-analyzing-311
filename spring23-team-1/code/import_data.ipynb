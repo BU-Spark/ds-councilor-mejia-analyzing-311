{
 "cells": [
  {
   "attachments": {},
   "cell_type": "markdown",
   "metadata": {},
   "source": [
    "## Data\n",
    "\n",
    "Before running this notebook, be sure to follow these steps:\n",
    "\n",
    "1. Download the three datasets containing 311 data from 2010 to 2024 from https://dataverse.harvard.edu/dataset.xhtml?persistentId=doi:10.7910/DVN/CVKM87\n",
    "\n",
    "2. Download the Boston social vulnerability dataset from https://data.boston.gov/dataset/climate-ready-boston-social-vulnerability\n",
    "\n",
    "3. Place all four .csv files into the ``data`` folder\n",
    "\n",
    "4. If everything works correctly, you should see a pandas dataframe with 45 columns after the last cell, with the final column containing the Social Vulnerability Index we calculated"
   ]
  },
  {
   "cell_type": "code",
   "execution_count": null,
   "metadata": {},
   "outputs": [],
   "source": [
    "import pandas as pd\n",
    "import numpy as np"
   ]
  },
  {
   "attachments": {},
   "cell_type": "markdown",
   "metadata": {},
   "source": [
    "Reads the three .csv files containing 311 data:"
   ]
  },
  {
   "cell_type": "code",
   "execution_count": 2,
   "metadata": {},
   "outputs": [
    {
     "name": "stderr",
     "output_type": "stream",
     "text": [
      "C:\\Users\\ivanb\\AppData\\Local\\Temp\\ipykernel_28972\\2849313675.py:3: DtypeWarning: Columns (16,17) have mixed types. Specify dtype option on import or set low_memory=False.\n",
      "  df3 = pd.read_csv('../data/311 Cases 2020_2024 Unrestricted.csv')\n"
     ]
    }
   ],
   "source": [
    "df1 = pd.read_csv('../data/311 Cases 2010_2014 Unrestricted.csv')\n",
    "df2 = pd.read_csv('../data/311 Cases 2015_2019 Unrestricted.csv')\n",
    "df3 = pd.read_csv('../data/311 Cases 2020_2024 Unrestricted.csv')"
   ]
  },
  {
   "attachments": {},
   "cell_type": "markdown",
   "metadata": {},
   "source": [
    "Concatenates all three subsets into one large dataset:"
   ]
  },
  {
   "cell_type": "code",
   "execution_count": 66,
   "metadata": {},
   "outputs": [],
   "source": [
    "df = pd.concat([df1, df2, df3])"
   ]
  },
  {
   "attachments": {},
   "cell_type": "markdown",
   "metadata": {},
   "source": [
    "Drops rows that do not contain the GEOID needed to match Boston Social Vulnerability data:"
   ]
  },
  {
   "cell_type": "code",
   "execution_count": 67,
   "metadata": {},
   "outputs": [],
   "source": [
    "df.dropna(subset=[\"CT_ID_10\"], inplace=True)"
   ]
  },
  {
   "attachments": {},
   "cell_type": "markdown",
   "metadata": {},
   "source": [
    "Converts the GEOID from float to int:"
   ]
  },
  {
   "cell_type": "code",
   "execution_count": 68,
   "metadata": {},
   "outputs": [],
   "source": [
    "df[\"CT_ID_10\"] = df[\"CT_ID_10\"].astype(np.int64)"
   ]
  },
  {
   "attachments": {},
   "cell_type": "markdown",
   "metadata": {},
   "source": [
    "Reads the Social Vulnerability csv as pandas dataframe:"
   ]
  },
  {
   "cell_type": "code",
   "execution_count": 69,
   "metadata": {},
   "outputs": [],
   "source": [
    "sv_df = pd.read_csv('../data/Climate_Ready_Boston_Social_Vulnerability.csv')"
   ]
  },
  {
   "attachments": {},
   "cell_type": "markdown",
   "metadata": {},
   "source": [
    "Calculates the Social Vulnerability Index by adding all the socially vulnerable category populations and dividing by the total population:"
   ]
  },
  {
   "cell_type": "code",
   "execution_count": 70,
   "metadata": {},
   "outputs": [],
   "source": [
    "sv_df[\"SV_IDX\"] = (sv_df[\"OlderAdult\"] + sv_df[\"TotChild\"] + sv_df[\"POC2\"] + sv_df[\"LEP\"] + sv_df[\"Low_to_No\"] + sv_df[\"TotDis\"] + sv_df[\"MedIllnes\"]) / sv_df[\"POP100_RE\"]"
   ]
  },
  {
   "attachments": {},
   "cell_type": "markdown",
   "metadata": {},
   "source": [
    "Since some citizens are present in more than one vulnerable group, we want to normalize this index from 0-1 by max-min normalization:"
   ]
  },
  {
   "cell_type": "code",
   "execution_count": 71,
   "metadata": {},
   "outputs": [],
   "source": [
    "sv_df[\"SV_IDX\"] = (sv_df[\"SV_IDX\"] - sv_df[\"SV_IDX\"].min()) / (sv_df[\"SV_IDX\"].max() - sv_df[\"SV_IDX\"].min())"
   ]
  },
  {
   "attachments": {},
   "cell_type": "markdown",
   "metadata": {},
   "source": [
    "Sanity check:"
   ]
  },
  {
   "cell_type": "code",
   "execution_count": 72,
   "metadata": {},
   "outputs": [
    {
     "data": {
      "text/html": [
       "<div>\n",
       "<style scoped>\n",
       "    .dataframe tbody tr th:only-of-type {\n",
       "        vertical-align: middle;\n",
       "    }\n",
       "\n",
       "    .dataframe tbody tr th {\n",
       "        vertical-align: top;\n",
       "    }\n",
       "\n",
       "    .dataframe thead th {\n",
       "        text-align: right;\n",
       "    }\n",
       "</style>\n",
       "<table border=\"1\" class=\"dataframe\">\n",
       "  <thead>\n",
       "    <tr style=\"text-align: right;\">\n",
       "      <th></th>\n",
       "      <th>FID</th>\n",
       "      <th>GEOID10</th>\n",
       "      <th>AREA_SQFT</th>\n",
       "      <th>AREA_ACRES</th>\n",
       "      <th>POP100_RE</th>\n",
       "      <th>HU100_RE</th>\n",
       "      <th>TotDis</th>\n",
       "      <th>TotChild</th>\n",
       "      <th>OlderAdult</th>\n",
       "      <th>Low_to_No</th>\n",
       "      <th>LEP</th>\n",
       "      <th>POC2</th>\n",
       "      <th>MedIllnes</th>\n",
       "      <th>Name</th>\n",
       "      <th>Shape__Area</th>\n",
       "      <th>Shape__Length</th>\n",
       "      <th>SV_IDX</th>\n",
       "    </tr>\n",
       "  </thead>\n",
       "  <tbody>\n",
       "    <tr>\n",
       "      <th>0</th>\n",
       "      <td>1</td>\n",
       "      <td>25025010405</td>\n",
       "      <td>3914567.54</td>\n",
       "      <td>89.8661</td>\n",
       "      <td>5522</td>\n",
       "      <td>994</td>\n",
       "      <td>470</td>\n",
       "      <td>60</td>\n",
       "      <td>331</td>\n",
       "      <td>1191</td>\n",
       "      <td>1522</td>\n",
       "      <td>1755</td>\n",
       "      <td>2131.22</td>\n",
       "      <td>Mission Hill</td>\n",
       "      <td>666100.000000</td>\n",
       "      <td>6036.192907</td>\n",
       "      <td>0.251273</td>\n",
       "    </tr>\n",
       "    <tr>\n",
       "      <th>1</th>\n",
       "      <td>2</td>\n",
       "      <td>25025010404</td>\n",
       "      <td>1472713.92</td>\n",
       "      <td>33.8089</td>\n",
       "      <td>5817</td>\n",
       "      <td>1862</td>\n",
       "      <td>299</td>\n",
       "      <td>77</td>\n",
       "      <td>56</td>\n",
       "      <td>2387</td>\n",
       "      <td>2443</td>\n",
       "      <td>1749</td>\n",
       "      <td>2201.14</td>\n",
       "      <td>Fenway</td>\n",
       "      <td>250612.382812</td>\n",
       "      <td>2176.592171</td>\n",
       "      <td>0.332280</td>\n",
       "    </tr>\n",
       "    <tr>\n",
       "      <th>2</th>\n",
       "      <td>3</td>\n",
       "      <td>25025010801</td>\n",
       "      <td>1376667.12</td>\n",
       "      <td>31.6039</td>\n",
       "      <td>2783</td>\n",
       "      <td>1899</td>\n",
       "      <td>84</td>\n",
       "      <td>281</td>\n",
       "      <td>390</td>\n",
       "      <td>72</td>\n",
       "      <td>462</td>\n",
       "      <td>447</td>\n",
       "      <td>1214.76</td>\n",
       "      <td>Back Bay</td>\n",
       "      <td>234357.910156</td>\n",
       "      <td>2542.043078</td>\n",
       "      <td>0.150050</td>\n",
       "    </tr>\n",
       "    <tr>\n",
       "      <th>3</th>\n",
       "      <td>4</td>\n",
       "      <td>25025010702</td>\n",
       "      <td>3228780.12</td>\n",
       "      <td>74.1226</td>\n",
       "      <td>2400</td>\n",
       "      <td>1643</td>\n",
       "      <td>45</td>\n",
       "      <td>86</td>\n",
       "      <td>285</td>\n",
       "      <td>187</td>\n",
       "      <td>472</td>\n",
       "      <td>320</td>\n",
       "      <td>1014.20</td>\n",
       "      <td>Back Bay</td>\n",
       "      <td>549614.007812</td>\n",
       "      <td>3224.573044</td>\n",
       "      <td>0.130397</td>\n",
       "    </tr>\n",
       "    <tr>\n",
       "      <th>4</th>\n",
       "      <td>5</td>\n",
       "      <td>25025010204</td>\n",
       "      <td>2741497.18</td>\n",
       "      <td>62.9361</td>\n",
       "      <td>3173</td>\n",
       "      <td>1283</td>\n",
       "      <td>131</td>\n",
       "      <td>13</td>\n",
       "      <td>36</td>\n",
       "      <td>895</td>\n",
       "      <td>931</td>\n",
       "      <td>1039</td>\n",
       "      <td>1181.78</td>\n",
       "      <td>Fenway</td>\n",
       "      <td>466585.238281</td>\n",
       "      <td>3143.610637</td>\n",
       "      <td>0.244696</td>\n",
       "    </tr>\n",
       "  </tbody>\n",
       "</table>\n",
       "</div>"
      ],
      "text/plain": [
       "   FID      GEOID10   AREA_SQFT  AREA_ACRES  POP100_RE  HU100_RE  TotDis  \\\n",
       "0    1  25025010405  3914567.54     89.8661       5522       994     470   \n",
       "1    2  25025010404  1472713.92     33.8089       5817      1862     299   \n",
       "2    3  25025010801  1376667.12     31.6039       2783      1899      84   \n",
       "3    4  25025010702  3228780.12     74.1226       2400      1643      45   \n",
       "4    5  25025010204  2741497.18     62.9361       3173      1283     131   \n",
       "\n",
       "   TotChild  OlderAdult  Low_to_No   LEP  POC2  MedIllnes          Name  \\\n",
       "0        60         331       1191  1522  1755    2131.22  Mission Hill   \n",
       "1        77          56       2387  2443  1749    2201.14        Fenway   \n",
       "2       281         390         72   462   447    1214.76      Back Bay   \n",
       "3        86         285        187   472   320    1014.20      Back Bay   \n",
       "4        13          36        895   931  1039    1181.78        Fenway   \n",
       "\n",
       "     Shape__Area  Shape__Length    SV_IDX  \n",
       "0  666100.000000    6036.192907  0.251273  \n",
       "1  250612.382812    2176.592171  0.332280  \n",
       "2  234357.910156    2542.043078  0.150050  \n",
       "3  549614.007812    3224.573044  0.130397  \n",
       "4  466585.238281    3143.610637  0.244696  "
      ]
     },
     "execution_count": 72,
     "metadata": {},
     "output_type": "execute_result"
    }
   ],
   "source": [
    "sv_df.head()"
   ]
  },
  {
   "attachments": {},
   "cell_type": "markdown",
   "metadata": {},
   "source": [
    "Joins the two datasets by the GEOID key:"
   ]
  },
  {
   "cell_type": "code",
   "execution_count": 73,
   "metadata": {},
   "outputs": [],
   "source": [
    "df = df.join(sv_df.set_index('GEOID10'), on='CT_ID_10')"
   ]
  },
  {
   "attachments": {},
   "cell_type": "markdown",
   "metadata": {},
   "source": [
    "Since some 311 calls have GEOID not present in the Boston.gov dataset (likely typed in incorrectly), we remove those rows (~10k):"
   ]
  },
  {
   "cell_type": "code",
   "execution_count": 74,
   "metadata": {},
   "outputs": [],
   "source": [
    "df.dropna(subset=[\"FID\"], inplace=True)"
   ]
  },
  {
   "attachments": {},
   "cell_type": "markdown",
   "metadata": {},
   "source": [
    "The final column should be the Social Vulnerability Index we calculated ranging from 0 to 1:"
   ]
  },
  {
   "cell_type": "code",
   "execution_count": 75,
   "metadata": {},
   "outputs": [
    {
     "data": {
      "text/html": [
       "<div>\n",
       "<style scoped>\n",
       "    .dataframe tbody tr th:only-of-type {\n",
       "        vertical-align: middle;\n",
       "    }\n",
       "\n",
       "    .dataframe tbody tr th {\n",
       "        vertical-align: top;\n",
       "    }\n",
       "\n",
       "    .dataframe thead th {\n",
       "        text-align: right;\n",
       "    }\n",
       "</style>\n",
       "<table border=\"1\" class=\"dataframe\">\n",
       "  <thead>\n",
       "    <tr style=\"text-align: right;\">\n",
       "      <th></th>\n",
       "      <th>Unnamed: 0</th>\n",
       "      <th>TYPE</th>\n",
       "      <th>CASE_ENQUIRY_ID</th>\n",
       "      <th>CLOSED_DT</th>\n",
       "      <th>LOCATION</th>\n",
       "      <th>OPEN_DT</th>\n",
       "      <th>REASON</th>\n",
       "      <th>SOURCE</th>\n",
       "      <th>SUBJECT</th>\n",
       "      <th>LocationID</th>\n",
       "      <th>...</th>\n",
       "      <th>TotChild</th>\n",
       "      <th>OlderAdult</th>\n",
       "      <th>Low_to_No</th>\n",
       "      <th>LEP</th>\n",
       "      <th>POC2</th>\n",
       "      <th>MedIllnes</th>\n",
       "      <th>Name</th>\n",
       "      <th>Shape__Area</th>\n",
       "      <th>Shape__Length</th>\n",
       "      <th>SV_IDX</th>\n",
       "    </tr>\n",
       "  </thead>\n",
       "  <tbody>\n",
       "    <tr>\n",
       "      <th>0</th>\n",
       "      <td>179937.0</td>\n",
       "      <td>Electrical</td>\n",
       "      <td>101000102011</td>\n",
       "      <td>NaN</td>\n",
       "      <td>227 Hanover St, Boston, MA  02113</td>\n",
       "      <td>2010-01-01</td>\n",
       "      <td>Building</td>\n",
       "      <td>Constituent Call</td>\n",
       "      <td>Inspectional Services</td>\n",
       "      <td>303291000.0</td>\n",
       "      <td>...</td>\n",
       "      <td>144.0</td>\n",
       "      <td>215.0</td>\n",
       "      <td>572.0</td>\n",
       "      <td>787.0</td>\n",
       "      <td>198.0</td>\n",
       "      <td>1020.89</td>\n",
       "      <td>North End</td>\n",
       "      <td>199108.652344</td>\n",
       "      <td>2510.837167</td>\n",
       "      <td>0.224366</td>\n",
       "    </tr>\n",
       "    <tr>\n",
       "      <th>1</th>\n",
       "      <td>180062.0</td>\n",
       "      <td>Electrical</td>\n",
       "      <td>101000101931</td>\n",
       "      <td>NaN</td>\n",
       "      <td>4 Union Park St, Roxbury, MA  02118</td>\n",
       "      <td>2010-01-01</td>\n",
       "      <td>Building</td>\n",
       "      <td>Constituent Call</td>\n",
       "      <td>Inspectional Services</td>\n",
       "      <td>305963000.0</td>\n",
       "      <td>...</td>\n",
       "      <td>967.0</td>\n",
       "      <td>639.0</td>\n",
       "      <td>1544.0</td>\n",
       "      <td>2183.0</td>\n",
       "      <td>2498.0</td>\n",
       "      <td>2133.73</td>\n",
       "      <td>South End</td>\n",
       "      <td>544487.425781</td>\n",
       "      <td>3839.918949</td>\n",
       "      <td>0.453694</td>\n",
       "    </tr>\n",
       "    <tr>\n",
       "      <th>2</th>\n",
       "      <td>222060.0</td>\n",
       "      <td>Fire in Food Establishment</td>\n",
       "      <td>101000102010</td>\n",
       "      <td>NaN</td>\n",
       "      <td>227 Hanover St, Boston, MA  02113</td>\n",
       "      <td>2010-01-01</td>\n",
       "      <td>Health</td>\n",
       "      <td>Constituent Call</td>\n",
       "      <td>Inspectional Services</td>\n",
       "      <td>303291000.0</td>\n",
       "      <td>...</td>\n",
       "      <td>144.0</td>\n",
       "      <td>215.0</td>\n",
       "      <td>572.0</td>\n",
       "      <td>787.0</td>\n",
       "      <td>198.0</td>\n",
       "      <td>1020.89</td>\n",
       "      <td>North End</td>\n",
       "      <td>199108.652344</td>\n",
       "      <td>2510.837167</td>\n",
       "      <td>0.224366</td>\n",
       "    </tr>\n",
       "    <tr>\n",
       "      <th>4</th>\n",
       "      <td>259240.0</td>\n",
       "      <td>General Lighting Request</td>\n",
       "      <td>101000102004</td>\n",
       "      <td>2010-03-10</td>\n",
       "      <td>INTERSECTION of Mount Vernon St &amp; Walnut St, B...</td>\n",
       "      <td>2010-01-01</td>\n",
       "      <td>Street Lights</td>\n",
       "      <td>Constituent Call</td>\n",
       "      <td>Public Works Department</td>\n",
       "      <td>NaN</td>\n",
       "      <td>...</td>\n",
       "      <td>595.0</td>\n",
       "      <td>541.0</td>\n",
       "      <td>280.0</td>\n",
       "      <td>821.0</td>\n",
       "      <td>411.0</td>\n",
       "      <td>1781.09</td>\n",
       "      <td>Back Bay</td>\n",
       "      <td>408899.921875</td>\n",
       "      <td>3149.451828</td>\n",
       "      <td>0.162949</td>\n",
       "    </tr>\n",
       "    <tr>\n",
       "      <th>9</th>\n",
       "      <td>271440.0</td>\n",
       "      <td>General Request</td>\n",
       "      <td>101000101992</td>\n",
       "      <td>2010-01-05</td>\n",
       "      <td>223-231 Berkeley St, Boston, MA  02116</td>\n",
       "      <td>2010-01-01</td>\n",
       "      <td>General Request</td>\n",
       "      <td>Mobile Request</td>\n",
       "      <td>Mayor's 24 Hour Hotline</td>\n",
       "      <td>501239000.0</td>\n",
       "      <td>...</td>\n",
       "      <td>86.0</td>\n",
       "      <td>285.0</td>\n",
       "      <td>187.0</td>\n",
       "      <td>472.0</td>\n",
       "      <td>320.0</td>\n",
       "      <td>1014.20</td>\n",
       "      <td>Back Bay</td>\n",
       "      <td>549614.007812</td>\n",
       "      <td>3224.573044</td>\n",
       "      <td>0.130397</td>\n",
       "    </tr>\n",
       "  </tbody>\n",
       "</table>\n",
       "<p>5 rows × 45 columns</p>\n",
       "</div>"
      ],
      "text/plain": [
       "   Unnamed: 0                        TYPE  CASE_ENQUIRY_ID   CLOSED_DT  \\\n",
       "0    179937.0                  Electrical     101000102011         NaN   \n",
       "1    180062.0                  Electrical     101000101931         NaN   \n",
       "2    222060.0  Fire in Food Establishment     101000102010         NaN   \n",
       "4    259240.0    General Lighting Request     101000102004  2010-03-10   \n",
       "9    271440.0             General Request     101000101992  2010-01-05   \n",
       "\n",
       "                                            LOCATION     OPEN_DT  \\\n",
       "0                  227 Hanover St, Boston, MA  02113  2010-01-01   \n",
       "1                4 Union Park St, Roxbury, MA  02118  2010-01-01   \n",
       "2                  227 Hanover St, Boston, MA  02113  2010-01-01   \n",
       "4  INTERSECTION of Mount Vernon St & Walnut St, B...  2010-01-01   \n",
       "9             223-231 Berkeley St, Boston, MA  02116  2010-01-01   \n",
       "\n",
       "            REASON            SOURCE                  SUBJECT   LocationID  \\\n",
       "0         Building  Constituent Call    Inspectional Services  303291000.0   \n",
       "1         Building  Constituent Call    Inspectional Services  305963000.0   \n",
       "2           Health  Constituent Call    Inspectional Services  303291000.0   \n",
       "4    Street Lights  Constituent Call  Public Works Department          NaN   \n",
       "9  General Request    Mobile Request  Mayor's 24 Hour Hotline  501239000.0   \n",
       "\n",
       "   ...  TotChild  OlderAdult  Low_to_No     LEP    POC2  MedIllnes       Name  \\\n",
       "0  ...     144.0       215.0      572.0   787.0   198.0    1020.89  North End   \n",
       "1  ...     967.0       639.0     1544.0  2183.0  2498.0    2133.73  South End   \n",
       "2  ...     144.0       215.0      572.0   787.0   198.0    1020.89  North End   \n",
       "4  ...     595.0       541.0      280.0   821.0   411.0    1781.09   Back Bay   \n",
       "9  ...      86.0       285.0      187.0   472.0   320.0    1014.20   Back Bay   \n",
       "\n",
       "     Shape__Area  Shape__Length    SV_IDX  \n",
       "0  199108.652344    2510.837167  0.224366  \n",
       "1  544487.425781    3839.918949  0.453694  \n",
       "2  199108.652344    2510.837167  0.224366  \n",
       "4  408899.921875    3149.451828  0.162949  \n",
       "9  549614.007812    3224.573044  0.130397  \n",
       "\n",
       "[5 rows x 45 columns]"
      ]
     },
     "execution_count": 75,
     "metadata": {},
     "output_type": "execute_result"
    }
   ],
   "source": [
    "df.head()"
   ]
  }
 ],
 "metadata": {
  "kernelspec": {
   "display_name": "py310",
   "language": "python",
   "name": "python3"
  },
  "language_info": {
   "codemirror_mode": {
    "name": "ipython",
    "version": 3
   },
   "file_extension": ".py",
   "mimetype": "text/x-python",
   "name": "python",
   "nbconvert_exporter": "python",
   "pygments_lexer": "ipython3",
   "version": "3.10.8"
  },
  "orig_nbformat": 4,
  "vscode": {
   "interpreter": {
    "hash": "9956cbb819fe32a57d3c48dd38b42a76df7e68bf6d5c6ae44336ef92de23dca6"
   }
  }
 },
 "nbformat": 4,
 "nbformat_minor": 2
}
