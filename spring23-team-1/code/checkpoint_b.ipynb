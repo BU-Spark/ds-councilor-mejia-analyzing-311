{
 "cells": [
  {
   "attachments": {},
   "cell_type": "markdown",
   "metadata": {},
   "source": [
    "## Data\n",
    "\n",
    "Before running this notebook, be sure to follow these steps:\n",
    "\n",
    "1. Download https://data.boston.gov/dataset/building-and-property-violations1/resource/800a2663-1d6a-46e7-9356-bedb70f5332c\n",
    "\n",
    "2. Download https://data.boston.gov/dataset/census-2010-tracts/resource/6dc52eff-49e4-420c-a7df-8d758dc2da32\n",
    "\n",
    "3. Place the files into the ``data`` folder\n",
    "\n",
    "4. Install dependencies in the cell below"
   ]
  },
  {
   "cell_type": "code",
   "execution_count": null,
   "metadata": {},
   "outputs": [],
   "source": [
    "# !pip install geopandas\n",
    "# !pip install shapely"
   ]
  },
  {
   "cell_type": "code",
   "execution_count": 4,
   "metadata": {},
   "outputs": [],
   "source": [
    "import geopandas as gpd\n",
    "import pandas as pd\n",
    "from shapely.geometry import Point\n",
    "\n",
    "# Load GeoJSON\n",
    "tracts_geojson = gpd.read_file('../data/Census_2010_Tracts.geojson')\n",
    "\n",
    "# Load CSV\n",
    "lat_lon_df = lat_lon_df = pd.read_csv('../data/boston_property_violations.csv')"
   ]
  },
  {
   "cell_type": "code",
   "execution_count": 5,
   "metadata": {},
   "outputs": [],
   "source": [
    "# Convert latitude and longitude to Shapely Points\n",
    "lat_lon_df['geometry'] = lat_lon_df.apply(lambda row: Point(row['longitude'], row['latitude']), axis=1)\n",
    "\n",
    "# Convert DataFrame to GeoDataFrame\n",
    "lat_lon_gdf = gpd.GeoDataFrame(lat_lon_df, geometry='geometry', crs=tracts_geojson.crs)\n"
   ]
  },
  {
   "cell_type": "code",
   "execution_count": 6,
   "metadata": {},
   "outputs": [
    {
     "name": "stderr",
     "output_type": "stream",
     "text": [
      "c:\\Users\\ivanb\\anaconda3\\envs\\py310\\lib\\site-packages\\IPython\\core\\interactiveshell.py:3377: FutureWarning: The `op` parameter is deprecated and will be removed in a future release. Please use the `predicate` parameter instead.\n",
      "  if (await self.run_code(code, result,  async_=asy)):\n"
     ]
    }
   ],
   "source": [
    "# Spatial join\n",
    "result_gdf = gpd.sjoin(lat_lon_gdf, tracts_geojson, op='within', how='left')"
   ]
  },
  {
   "cell_type": "code",
   "execution_count": 14,
   "metadata": {},
   "outputs": [
    {
     "data": {
      "text/html": [
       "<div>\n",
       "<style scoped>\n",
       "    .dataframe tbody tr th:only-of-type {\n",
       "        vertical-align: middle;\n",
       "    }\n",
       "\n",
       "    .dataframe tbody tr th {\n",
       "        vertical-align: top;\n",
       "    }\n",
       "\n",
       "    .dataframe thead th {\n",
       "        text-align: right;\n",
       "    }\n",
       "</style>\n",
       "<table border=\"1\" class=\"dataframe\">\n",
       "  <thead>\n",
       "    <tr style=\"text-align: right;\">\n",
       "      <th></th>\n",
       "      <th>case_no</th>\n",
       "      <th>status_dttm</th>\n",
       "      <th>status</th>\n",
       "      <th>code</th>\n",
       "      <th>value</th>\n",
       "      <th>description</th>\n",
       "      <th>violation_stno</th>\n",
       "      <th>violation_sthigh</th>\n",
       "      <th>violation_street</th>\n",
       "      <th>violation_suffix</th>\n",
       "      <th>...</th>\n",
       "      <th>MTFCC10</th>\n",
       "      <th>FUNCSTAT10</th>\n",
       "      <th>ALAND10</th>\n",
       "      <th>AWATER10</th>\n",
       "      <th>INTPTLAT10</th>\n",
       "      <th>INTPTLON10</th>\n",
       "      <th>Shape_STAr</th>\n",
       "      <th>Shape_STLe</th>\n",
       "      <th>Shape__Area</th>\n",
       "      <th>Shape__Length</th>\n",
       "    </tr>\n",
       "  </thead>\n",
       "  <tbody>\n",
       "    <tr>\n",
       "      <th>0</th>\n",
       "      <td>V517867</td>\n",
       "      <td>2020-09-28 14:27:26</td>\n",
       "      <td>Closed</td>\n",
       "      <td>102.8</td>\n",
       "      <td>NaN</td>\n",
       "      <td>Maintenance</td>\n",
       "      <td>54</td>\n",
       "      <td>NaN</td>\n",
       "      <td>Chestnut</td>\n",
       "      <td>ST</td>\n",
       "      <td>...</td>\n",
       "      <td>G5020</td>\n",
       "      <td>S</td>\n",
       "      <td>223142</td>\n",
       "      <td>0</td>\n",
       "      <td>+42.3577086</td>\n",
       "      <td>-071.0694112</td>\n",
       "      <td>2.401693e+06</td>\n",
       "      <td>7637.223404</td>\n",
       "      <td>408899.925781</td>\n",
       "      <td>3149.451618</td>\n",
       "    </tr>\n",
       "    <tr>\n",
       "      <th>1</th>\n",
       "      <td>V670182</td>\n",
       "      <td>2023-04-06 14:45:48</td>\n",
       "      <td>Open</td>\n",
       "      <td>102.8</td>\n",
       "      <td>NaN</td>\n",
       "      <td>Maintenance</td>\n",
       "      <td>105</td>\n",
       "      <td>NaN</td>\n",
       "      <td>Cushing</td>\n",
       "      <td>AVE</td>\n",
       "      <td>...</td>\n",
       "      <td>G5020</td>\n",
       "      <td>S</td>\n",
       "      <td>404166</td>\n",
       "      <td>0</td>\n",
       "      <td>+42.3114941</td>\n",
       "      <td>-071.0643707</td>\n",
       "      <td>4.350094e+06</td>\n",
       "      <td>9075.236281</td>\n",
       "      <td>739547.699219</td>\n",
       "      <td>3741.252990</td>\n",
       "    </tr>\n",
       "    <tr>\n",
       "      <th>2</th>\n",
       "      <td>V669622</td>\n",
       "      <td>2023-04-04 08:50:18</td>\n",
       "      <td>Open</td>\n",
       "      <td>111.1</td>\n",
       "      <td>NaN</td>\n",
       "      <td>Certificate of Occupancy</td>\n",
       "      <td>1</td>\n",
       "      <td>3</td>\n",
       "      <td>Clifton</td>\n",
       "      <td>ST</td>\n",
       "      <td>...</td>\n",
       "      <td>G5020</td>\n",
       "      <td>S</td>\n",
       "      <td>301664</td>\n",
       "      <td>0</td>\n",
       "      <td>+42.3229604</td>\n",
       "      <td>-071.0722753</td>\n",
       "      <td>3.246866e+06</td>\n",
       "      <td>8954.074073</td>\n",
       "      <td>552190.246094</td>\n",
       "      <td>3692.142057</td>\n",
       "    </tr>\n",
       "    <tr>\n",
       "      <th>3</th>\n",
       "      <td>V670166</td>\n",
       "      <td>2023-04-06 12:52:46</td>\n",
       "      <td>Open</td>\n",
       "      <td>105.1</td>\n",
       "      <td>NaN</td>\n",
       "      <td>Failure to Obtain Permit</td>\n",
       "      <td>105</td>\n",
       "      <td>NaN</td>\n",
       "      <td>Cushing</td>\n",
       "      <td>AVE</td>\n",
       "      <td>...</td>\n",
       "      <td>G5020</td>\n",
       "      <td>S</td>\n",
       "      <td>404166</td>\n",
       "      <td>0</td>\n",
       "      <td>+42.3114941</td>\n",
       "      <td>-071.0643707</td>\n",
       "      <td>4.350094e+06</td>\n",
       "      <td>9075.236281</td>\n",
       "      <td>739547.699219</td>\n",
       "      <td>3741.252990</td>\n",
       "    </tr>\n",
       "    <tr>\n",
       "      <th>4</th>\n",
       "      <td>V670094</td>\n",
       "      <td>2023-04-06 10:43:56</td>\n",
       "      <td>Open</td>\n",
       "      <td>102.8</td>\n",
       "      <td>NaN</td>\n",
       "      <td>Maintenance</td>\n",
       "      <td>1</td>\n",
       "      <td>11</td>\n",
       "      <td>Erie</td>\n",
       "      <td>ST</td>\n",
       "      <td>...</td>\n",
       "      <td>G5020</td>\n",
       "      <td>S</td>\n",
       "      <td>446992</td>\n",
       "      <td>0</td>\n",
       "      <td>+42.3023757</td>\n",
       "      <td>-071.0820198</td>\n",
       "      <td>4.811071e+06</td>\n",
       "      <td>10600.541287</td>\n",
       "      <td>817682.585938</td>\n",
       "      <td>4374.486230</td>\n",
       "    </tr>\n",
       "  </tbody>\n",
       "</table>\n",
       "<p>5 rows × 43 columns</p>\n",
       "</div>"
      ],
      "text/plain": [
       "   case_no          status_dttm  status   code  value  \\\n",
       "0  V517867  2020-09-28 14:27:26  Closed  102.8    NaN   \n",
       "1  V670182  2023-04-06 14:45:48    Open  102.8    NaN   \n",
       "2  V669622  2023-04-04 08:50:18    Open  111.1    NaN   \n",
       "3  V670166  2023-04-06 12:52:46    Open  105.1    NaN   \n",
       "4  V670094  2023-04-06 10:43:56    Open  102.8    NaN   \n",
       "\n",
       "                description violation_stno violation_sthigh violation_street  \\\n",
       "0               Maintenance             54              NaN         Chestnut   \n",
       "1               Maintenance            105              NaN          Cushing   \n",
       "2  Certificate of Occupancy              1                3          Clifton   \n",
       "3  Failure to Obtain Permit            105              NaN          Cushing   \n",
       "4               Maintenance              1               11             Erie   \n",
       "\n",
       "  violation_suffix  ... MTFCC10 FUNCSTAT10 ALAND10 AWATER10   INTPTLAT10  \\\n",
       "0               ST  ...   G5020          S  223142        0  +42.3577086   \n",
       "1              AVE  ...   G5020          S  404166        0  +42.3114941   \n",
       "2               ST  ...   G5020          S  301664        0  +42.3229604   \n",
       "3              AVE  ...   G5020          S  404166        0  +42.3114941   \n",
       "4               ST  ...   G5020          S  446992        0  +42.3023757   \n",
       "\n",
       "     INTPTLON10    Shape_STAr    Shape_STLe    Shape__Area  Shape__Length  \n",
       "0  -071.0694112  2.401693e+06   7637.223404  408899.925781    3149.451618  \n",
       "1  -071.0643707  4.350094e+06   9075.236281  739547.699219    3741.252990  \n",
       "2  -071.0722753  3.246866e+06   8954.074073  552190.246094    3692.142057  \n",
       "3  -071.0643707  4.350094e+06   9075.236281  739547.699219    3741.252990  \n",
       "4  -071.0820198  4.811071e+06  10600.541287  817682.585938    4374.486230  \n",
       "\n",
       "[5 rows x 43 columns]"
      ]
     },
     "execution_count": 14,
     "metadata": {},
     "output_type": "execute_result"
    }
   ],
   "source": [
    "# Convert back to DataFrame\n",
    "result_df = pd.DataFrame(result_gdf)\n",
    "result_df.head()"
   ]
  },
  {
   "cell_type": "code",
   "execution_count": 32,
   "metadata": {},
   "outputs": [
    {
     "data": {
      "text/html": [
       "<div>\n",
       "<style scoped>\n",
       "    .dataframe tbody tr th:only-of-type {\n",
       "        vertical-align: middle;\n",
       "    }\n",
       "\n",
       "    .dataframe tbody tr th {\n",
       "        vertical-align: top;\n",
       "    }\n",
       "\n",
       "    .dataframe thead th {\n",
       "        text-align: right;\n",
       "    }\n",
       "</style>\n",
       "<table border=\"1\" class=\"dataframe\">\n",
       "  <thead>\n",
       "    <tr style=\"text-align: right;\">\n",
       "      <th></th>\n",
       "      <th>status_dttm</th>\n",
       "      <th>status</th>\n",
       "      <th>description</th>\n",
       "      <th>latitude</th>\n",
       "      <th>longitude</th>\n",
       "      <th>NAME10</th>\n",
       "      <th>GEOID10</th>\n",
       "    </tr>\n",
       "  </thead>\n",
       "  <tbody>\n",
       "    <tr>\n",
       "      <th>0</th>\n",
       "      <td>2020-09-28 14:27:26</td>\n",
       "      <td>Closed</td>\n",
       "      <td>Maintenance</td>\n",
       "      <td>42.357129</td>\n",
       "      <td>-71.068761</td>\n",
       "      <td>201.01</td>\n",
       "      <td>25025020101</td>\n",
       "    </tr>\n",
       "    <tr>\n",
       "      <th>1</th>\n",
       "      <td>2023-04-06 14:45:48</td>\n",
       "      <td>Open</td>\n",
       "      <td>Maintenance</td>\n",
       "      <td>42.313240</td>\n",
       "      <td>-71.062610</td>\n",
       "      <td>915</td>\n",
       "      <td>25025091500</td>\n",
       "    </tr>\n",
       "    <tr>\n",
       "      <th>2</th>\n",
       "      <td>2023-04-04 08:50:18</td>\n",
       "      <td>Open</td>\n",
       "      <td>Certificate of Occupancy</td>\n",
       "      <td>42.323738</td>\n",
       "      <td>-71.071213</td>\n",
       "      <td>906</td>\n",
       "      <td>25025090600</td>\n",
       "    </tr>\n",
       "    <tr>\n",
       "      <th>3</th>\n",
       "      <td>2023-04-06 12:52:46</td>\n",
       "      <td>Open</td>\n",
       "      <td>Failure to Obtain Permit</td>\n",
       "      <td>42.313240</td>\n",
       "      <td>-71.062610</td>\n",
       "      <td>915</td>\n",
       "      <td>25025091500</td>\n",
       "    </tr>\n",
       "    <tr>\n",
       "      <th>4</th>\n",
       "      <td>2023-04-06 10:43:56</td>\n",
       "      <td>Open</td>\n",
       "      <td>Maintenance</td>\n",
       "      <td>42.303295</td>\n",
       "      <td>-71.078780</td>\n",
       "      <td>901</td>\n",
       "      <td>25025090100</td>\n",
       "    </tr>\n",
       "  </tbody>\n",
       "</table>\n",
       "</div>"
      ],
      "text/plain": [
       "           status_dttm  status               description   latitude  \\\n",
       "0  2020-09-28 14:27:26  Closed               Maintenance  42.357129   \n",
       "1  2023-04-06 14:45:48    Open               Maintenance  42.313240   \n",
       "2  2023-04-04 08:50:18    Open  Certificate of Occupancy  42.323738   \n",
       "3  2023-04-06 12:52:46    Open  Failure to Obtain Permit  42.313240   \n",
       "4  2023-04-06 10:43:56    Open               Maintenance  42.303295   \n",
       "\n",
       "   longitude  NAME10      GEOID10  \n",
       "0 -71.068761  201.01  25025020101  \n",
       "1 -71.062610     915  25025091500  \n",
       "2 -71.071213     906  25025090600  \n",
       "3 -71.062610     915  25025091500  \n",
       "4 -71.078780     901  25025090100  "
      ]
     },
     "execution_count": 32,
     "metadata": {},
     "output_type": "execute_result"
    }
   ],
   "source": [
    "violations = result_df[[\"status_dttm\", \"status\", \"description\", \"latitude\", \"longitude\", \"NAME10\", \"GEOID10\"]]\n",
    "violations = violations.dropna()\n",
    "violations.head()"
   ]
  },
  {
   "cell_type": "code",
   "execution_count": 33,
   "metadata": {},
   "outputs": [],
   "source": [
    "violations.to_csv('../data/violations_geoid.csv', index=False)"
   ]
  },
  {
   "attachments": {},
   "cell_type": "markdown",
   "metadata": {},
   "source": [
    "## Analysis"
   ]
  },
  {
   "cell_type": "code",
   "execution_count": 1,
   "metadata": {},
   "outputs": [],
   "source": [
    "import pandas as pd\n",
    "\n",
    "violations = pd.read_csv('../data/violations_geoid.csv')"
   ]
  },
  {
   "attachments": {},
   "cell_type": "markdown",
   "metadata": {},
   "source": [
    "### HeatMap of Property Violations"
   ]
  },
  {
   "cell_type": "code",
   "execution_count": 37,
   "metadata": {},
   "outputs": [],
   "source": [
    "import folium\n",
    "from folium.plugins import HeatMap\n",
    "\n",
    "boston_coordinates = [42.3601, -71.0589]\n",
    "heatmap_map = folium.Map(location=boston_coordinates, zoom_start=12)"
   ]
  },
  {
   "cell_type": "code",
   "execution_count": 42,
   "metadata": {},
   "outputs": [],
   "source": [
    "# Extract latitude and longitude coordinates as a list of lists\n",
    "coordinates = violations[['latitude', 'longitude']].values.tolist()\n",
    "\n",
    "# Add the heatmap layer to the map\n",
    "HeatMap(coordinates).add_to(heatmap_map)\n",
    "\n",
    "# Save the heatmap to an HTML file\n",
    "heatmap_map.save('../output/heatmap.html')"
   ]
  },
  {
   "attachments": {},
   "cell_type": "markdown",
   "metadata": {},
   "source": [
    "### 311 Calls vs Property Violations"
   ]
  },
  {
   "cell_type": "code",
   "execution_count": 12,
   "metadata": {},
   "outputs": [
    {
     "data": {
      "text/html": [
       "<div>\n",
       "<style scoped>\n",
       "    .dataframe tbody tr th:only-of-type {\n",
       "        vertical-align: middle;\n",
       "    }\n",
       "\n",
       "    .dataframe tbody tr th {\n",
       "        vertical-align: top;\n",
       "    }\n",
       "\n",
       "    .dataframe thead th {\n",
       "        text-align: right;\n",
       "    }\n",
       "</style>\n",
       "<table border=\"1\" class=\"dataframe\">\n",
       "  <thead>\n",
       "    <tr style=\"text-align: right;\">\n",
       "      <th></th>\n",
       "      <th>GEOID10</th>\n",
       "      <th>NUM_VIOLATIONS</th>\n",
       "    </tr>\n",
       "  </thead>\n",
       "  <tbody>\n",
       "    <tr>\n",
       "      <th>0</th>\n",
       "      <td>25025000100</td>\n",
       "      <td>113</td>\n",
       "    </tr>\n",
       "    <tr>\n",
       "      <th>1</th>\n",
       "      <td>25025000201</td>\n",
       "      <td>60</td>\n",
       "    </tr>\n",
       "    <tr>\n",
       "      <th>2</th>\n",
       "      <td>25025000202</td>\n",
       "      <td>75</td>\n",
       "    </tr>\n",
       "    <tr>\n",
       "      <th>3</th>\n",
       "      <td>25025000301</td>\n",
       "      <td>47</td>\n",
       "    </tr>\n",
       "    <tr>\n",
       "      <th>4</th>\n",
       "      <td>25025000302</td>\n",
       "      <td>73</td>\n",
       "    </tr>\n",
       "  </tbody>\n",
       "</table>\n",
       "</div>"
      ],
      "text/plain": [
       "       GEOID10  NUM_VIOLATIONS\n",
       "0  25025000100             113\n",
       "1  25025000201              60\n",
       "2  25025000202              75\n",
       "3  25025000301              47\n",
       "4  25025000302              73"
      ]
     },
     "execution_count": 12,
     "metadata": {},
     "output_type": "execute_result"
    }
   ],
   "source": [
    "violations_by_geoid = violations.groupby(by=[\"GEOID10\"]).size().reset_index(name=\"NUM_VIOLATIONS\")\n",
    "violations_by_geoid.head()"
   ]
  },
  {
   "cell_type": "code",
   "execution_count": 2,
   "metadata": {},
   "outputs": [
    {
     "name": "stderr",
     "output_type": "stream",
     "text": [
      "C:\\Users\\ivanb\\AppData\\Local\\Temp\\ipykernel_14024\\871958569.py:1: DtypeWarning: Columns (16,17,28) have mixed types. Specify dtype option on import or set low_memory=False.\n",
      "  cases = pd.read_csv(\"../data/311_cases.csv\")\n"
     ]
    }
   ],
   "source": [
    "cases = pd.read_csv(\"../data/311_cases.csv\")"
   ]
  },
  {
   "cell_type": "code",
   "execution_count": 11,
   "metadata": {},
   "outputs": [
    {
     "data": {
      "text/html": [
       "<div>\n",
       "<style scoped>\n",
       "    .dataframe tbody tr th:only-of-type {\n",
       "        vertical-align: middle;\n",
       "    }\n",
       "\n",
       "    .dataframe tbody tr th {\n",
       "        vertical-align: top;\n",
       "    }\n",
       "\n",
       "    .dataframe thead th {\n",
       "        text-align: right;\n",
       "    }\n",
       "</style>\n",
       "<table border=\"1\" class=\"dataframe\">\n",
       "  <thead>\n",
       "    <tr style=\"text-align: right;\">\n",
       "      <th></th>\n",
       "      <th>CT_ID_10</th>\n",
       "      <th>NUM_CALLS</th>\n",
       "    </tr>\n",
       "  </thead>\n",
       "  <tbody>\n",
       "    <tr>\n",
       "      <th>0</th>\n",
       "      <td>25017373600</td>\n",
       "      <td>69</td>\n",
       "    </tr>\n",
       "    <tr>\n",
       "      <th>1</th>\n",
       "      <td>25021400100</td>\n",
       "      <td>81</td>\n",
       "    </tr>\n",
       "    <tr>\n",
       "      <th>2</th>\n",
       "      <td>25021400202</td>\n",
       "      <td>98</td>\n",
       "    </tr>\n",
       "    <tr>\n",
       "      <th>3</th>\n",
       "      <td>25021400600</td>\n",
       "      <td>5</td>\n",
       "    </tr>\n",
       "    <tr>\n",
       "      <th>4</th>\n",
       "      <td>25021401201</td>\n",
       "      <td>9</td>\n",
       "    </tr>\n",
       "  </tbody>\n",
       "</table>\n",
       "</div>"
      ],
      "text/plain": [
       "      CT_ID_10  NUM_CALLS\n",
       "0  25017373600         69\n",
       "1  25021400100         81\n",
       "2  25021400202         98\n",
       "3  25021400600          5\n",
       "4  25021401201          9"
      ]
     },
     "execution_count": 11,
     "metadata": {},
     "output_type": "execute_result"
    }
   ],
   "source": [
    "cases_by_geoid = cases.groupby(by=[\"CT_ID_10\"]).size().reset_index(name=\"NUM_CALLS\")\n",
    "cases_by_geoid.head()"
   ]
  },
  {
   "cell_type": "code",
   "execution_count": 6,
   "metadata": {},
   "outputs": [],
   "source": [
    "violations_311_cases = violations_by_geoid.join(cases_by_geoid.set_index('CT_ID_10'), on='GEOID10')"
   ]
  },
  {
   "cell_type": "code",
   "execution_count": 10,
   "metadata": {},
   "outputs": [
    {
     "data": {
      "image/png": "[encoded data removed]",
      "text/plain": [
       "<Figure size 640x480 with 1 Axes>"
      ]
     },
     "metadata": {},
     "output_type": "display_data"
    }
   ],
   "source": [
    "from matplotlib import pyplot as plt\n",
    "\n",
    "x = violations_311_cases[\"NUM_VIOLATIONS\"]\n",
    "y = violations_311_cases[\"NUM_CALLS\"]\n",
    "\n",
    "plt.scatter(x, y)\n",
    "plt.title(\"311 Calls vs Property Violations (per Census Tract)\")\n",
    "plt.xlabel(\"Number of Violations\")\n",
    "plt.ylabel(\"Number of Calls\")\n",
    "plt.show()"
   ]
  }
 ],
 "metadata": {
  "kernelspec": {
   "display_name": "py310",
   "language": "python",
   "name": "python3"
  },
  "language_info": {
   "codemirror_mode": {
    "name": "ipython",
    "version": 3
   },
   "file_extension": ".py",
   "mimetype": "text/x-python",
   "name": "python",
   "nbconvert_exporter": "python",
   "pygments_lexer": "ipython3",
   "version": "3.10.8"
  },
  "orig_nbformat": 4
 },
 "nbformat": 4,
 "nbformat_minor": 2
}
